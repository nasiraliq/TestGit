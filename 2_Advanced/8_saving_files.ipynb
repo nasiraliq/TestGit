{
 "cells": [
  {
   "cell_type": "code",
   "execution_count": 4,
   "metadata": {},
   "outputs": [],
   "source": [
    "import pandas as pd"
   ]
  },
  {
   "cell_type": "code",
   "execution_count": 5,
   "metadata": {},
   "outputs": [
    {
     "name": "stdout",
     "output_type": "stream",
     "text": [
      "DataFrame 1:\n",
      "   id     name  age\n",
      "0   1    Alice   24\n",
      "1   2      Bob   27\n",
      "2   3  Charlie   22\n",
      "3   4    David   32\n",
      "\n",
      "DataFrame 2:\n",
      "   id    name  age\n",
      "0   5     Eve   28\n",
      "1   6   Frank   30\n",
      "2   7   Grace   26\n",
      "3   8  Hannah   29\n"
     ]
    }
   ],
   "source": [
    "# First DataFrame\n",
    "df1 = pd.DataFrame({\n",
    "    'id': [1, 2, 3, 4],\n",
    "    'name': ['Alice', 'Bob', 'Charlie', 'David'],\n",
    "    'age': [24, 27, 22, 32]\n",
    "})\n",
    "\n",
    "# Second DataFrame\n",
    "df2 = pd.DataFrame({\n",
    "    'id': [5, 6, 7, 8],\n",
    "    'name': ['Eve', 'Frank', 'Grace', 'Hannah'],\n",
    "    'age': [28, 30, 26, 29]\n",
    "})\n",
    "\n",
    "print(\"DataFrame 1:\")\n",
    "print(df1)\n",
    "print(\"\\nDataFrame 2:\")\n",
    "print(df2)\n"
   ]
  },
  {
   "cell_type": "code",
   "execution_count": 7,
   "metadata": {},
   "outputs": [],
   "source": [
    "df3 = pd.concat([df1, df2])"
   ]
  },
  {
   "cell_type": "code",
   "execution_count": 8,
   "metadata": {},
   "outputs": [],
   "source": [
    "df3.to_pickle(\"data.pkl\")"
   ]
  },
  {
   "cell_type": "code",
   "execution_count": 11,
   "metadata": {},
   "outputs": [],
   "source": [
    "# df3.to_parquet(\"data.parquet\")"
   ]
  },
  {
   "cell_type": "code",
   "execution_count": null,
   "metadata": {},
   "outputs": [],
   "source": []
  }
 ],
 "metadata": {
  "kernelspec": {
   "display_name": "env_Bilingual",
   "language": "python",
   "name": "python3"
  },
  "language_info": {
   "codemirror_mode": {
    "name": "ipython",
    "version": 3
   },
   "file_extension": ".py",
   "mimetype": "text/x-python",
   "name": "python",
   "nbconvert_exporter": "python",
   "pygments_lexer": "ipython3",
   "version": "3.11.10"
  }
 },
 "nbformat": 4,
 "nbformat_minor": 2
}
