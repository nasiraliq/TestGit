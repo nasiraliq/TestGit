{
 "cells": [
  {
   "cell_type": "code",
   "execution_count": 22,
   "metadata": {},
   "outputs": [],
   "source": [
    "import pandas as pd\n",
    "import matplotlib.pyplot as plt\n",
    "%matplotlib inline"
   ]
  },
  {
   "cell_type": "code",
   "execution_count": 23,
   "metadata": {},
   "outputs": [],
   "source": [
    "df = pd.read_csv(\"../data/data_jobs.csv\")"
   ]
  },
  {
   "cell_type": "code",
   "execution_count": 24,
   "metadata": {},
   "outputs": [],
   "source": [
    "df[\"job_posted_date\"] = pd.to_datetime(df[\"job_posted_date\"])"
   ]
  },
  {
   "cell_type": "code",
   "execution_count": 25,
   "metadata": {},
   "outputs": [
    {
     "data": {
      "text/plain": [
       "job_country\n",
       "United States     206292\n",
       "India              51088\n",
       "United Kingdom     40375\n",
       "France             39922\n",
       "Germany            27694\n",
       "Name: count, dtype: int64"
      ]
     },
     "execution_count": 25,
     "metadata": {},
     "output_type": "execute_result"
    }
   ],
   "source": [
    "df[\"job_country\"].value_counts().head(5)"
   ]
  },
  {
   "cell_type": "code",
   "execution_count": 26,
   "metadata": {},
   "outputs": [],
   "source": [
    "df_us = df[df[\"job_country\"] == \"United States\"].copy()"
   ]
  },
  {
   "cell_type": "code",
   "execution_count": 27,
   "metadata": {},
   "outputs": [],
   "source": [
    "df_us[\"job_posted_month\"] = df_us[\"job_posted_date\"].dt.month_name()"
   ]
  },
  {
   "cell_type": "code",
   "execution_count": 42,
   "metadata": {},
   "outputs": [],
   "source": [
    "df_us_pvt = df_us.pivot_table(values=\"salary_year_avg\", index=\"job_posted_month\", columns=\"job_title_short\", aggfunc=\"count\")\n",
    "# df_us_pvt = df_us.pivot_table(index=\"job_posted_month\", columns=\"job_title_short\", aggfunc=\"count\")"
   ]
  },
  {
   "cell_type": "code",
   "execution_count": 43,
   "metadata": {},
   "outputs": [],
   "source": [
    "df_us_pvt.reset_index(inplace=True)"
   ]
  },
  {
   "cell_type": "code",
   "execution_count": 44,
   "metadata": {},
   "outputs": [],
   "source": [
    "month_order = {\n",
    "    'January': 1, 'February': 2, 'March': 3, 'April': 4, 'May': 5, 'June': 6,\n",
    "    'July': 7, 'August': 8, 'September': 9, 'October': 10, 'November': 11, 'December': 12\n",
    "}\n",
    "df_us_pvt[\"month_no\"] = df_us_pvt[\"job_posted_month\"].map(month_order)"
   ]
  },
  {
   "cell_type": "code",
   "execution_count": 45,
   "metadata": {},
   "outputs": [],
   "source": [
    "df_us_pvt = df_us_pvt.sort_values(by=\"month_no\",ascending=True).set_index(keys=\"job_posted_month\").drop(columns=[\"month_no\"])"
   ]
  },
  {
   "cell_type": "code",
   "execution_count": 46,
   "metadata": {},
   "outputs": [
    {
     "data": {
      "text/plain": [
       "['Data Analyst', 'Data Scientist', 'Data Engineer']"
      ]
     },
     "execution_count": 46,
     "metadata": {},
     "output_type": "execute_result"
    }
   ],
   "source": [
    "titles = df_us[\"job_title_short\"].value_counts().sort_values(ascending=False).head(3).index.to_list()\n",
    "titles"
   ]
  },
  {
   "cell_type": "code",
   "execution_count": 47,
   "metadata": {},
   "outputs": [
    {
     "data": {
      "text/html": [
       "<div>\n",
       "<style scoped>\n",
       "    .dataframe tbody tr th:only-of-type {\n",
       "        vertical-align: middle;\n",
       "    }\n",
       "\n",
       "    .dataframe tbody tr th {\n",
       "        vertical-align: top;\n",
       "    }\n",
       "\n",
       "    .dataframe thead th {\n",
       "        text-align: right;\n",
       "    }\n",
       "</style>\n",
       "<table border=\"1\" class=\"dataframe\">\n",
       "  <thead>\n",
       "    <tr style=\"text-align: right;\">\n",
       "      <th>job_title_short</th>\n",
       "      <th>Business Analyst</th>\n",
       "      <th>Cloud Engineer</th>\n",
       "      <th>Data Analyst</th>\n",
       "      <th>Data Engineer</th>\n",
       "      <th>Data Scientist</th>\n",
       "      <th>Machine Learning Engineer</th>\n",
       "      <th>Senior Data Analyst</th>\n",
       "      <th>Senior Data Engineer</th>\n",
       "      <th>Senior Data Scientist</th>\n",
       "      <th>Software Engineer</th>\n",
       "    </tr>\n",
       "    <tr>\n",
       "      <th>job_posted_month</th>\n",
       "      <th></th>\n",
       "      <th></th>\n",
       "      <th></th>\n",
       "      <th></th>\n",
       "      <th></th>\n",
       "      <th></th>\n",
       "      <th></th>\n",
       "      <th></th>\n",
       "      <th></th>\n",
       "      <th></th>\n",
       "    </tr>\n",
       "  </thead>\n",
       "  <tbody>\n",
       "    <tr>\n",
       "      <th>January</th>\n",
       "      <td>23</td>\n",
       "      <td>0</td>\n",
       "      <td>456</td>\n",
       "      <td>236</td>\n",
       "      <td>486</td>\n",
       "      <td>14</td>\n",
       "      <td>119</td>\n",
       "      <td>85</td>\n",
       "      <td>150</td>\n",
       "      <td>7</td>\n",
       "    </tr>\n",
       "    <tr>\n",
       "      <th>February</th>\n",
       "      <td>23</td>\n",
       "      <td>3</td>\n",
       "      <td>341</td>\n",
       "      <td>308</td>\n",
       "      <td>382</td>\n",
       "      <td>13</td>\n",
       "      <td>77</td>\n",
       "      <td>112</td>\n",
       "      <td>110</td>\n",
       "      <td>12</td>\n",
       "    </tr>\n",
       "    <tr>\n",
       "      <th>March</th>\n",
       "      <td>27</td>\n",
       "      <td>1</td>\n",
       "      <td>370</td>\n",
       "      <td>348</td>\n",
       "      <td>428</td>\n",
       "      <td>10</td>\n",
       "      <td>72</td>\n",
       "      <td>126</td>\n",
       "      <td>132</td>\n",
       "      <td>16</td>\n",
       "    </tr>\n",
       "    <tr>\n",
       "      <th>April</th>\n",
       "      <td>35</td>\n",
       "      <td>1</td>\n",
       "      <td>357</td>\n",
       "      <td>238</td>\n",
       "      <td>338</td>\n",
       "      <td>14</td>\n",
       "      <td>89</td>\n",
       "      <td>87</td>\n",
       "      <td>90</td>\n",
       "      <td>14</td>\n",
       "    </tr>\n",
       "    <tr>\n",
       "      <th>May</th>\n",
       "      <td>20</td>\n",
       "      <td>1</td>\n",
       "      <td>338</td>\n",
       "      <td>257</td>\n",
       "      <td>381</td>\n",
       "      <td>10</td>\n",
       "      <td>81</td>\n",
       "      <td>105</td>\n",
       "      <td>100</td>\n",
       "      <td>6</td>\n",
       "    </tr>\n",
       "    <tr>\n",
       "      <th>June</th>\n",
       "      <td>27</td>\n",
       "      <td>2</td>\n",
       "      <td>443</td>\n",
       "      <td>316</td>\n",
       "      <td>441</td>\n",
       "      <td>11</td>\n",
       "      <td>118</td>\n",
       "      <td>125</td>\n",
       "      <td>136</td>\n",
       "      <td>15</td>\n",
       "    </tr>\n",
       "    <tr>\n",
       "      <th>July</th>\n",
       "      <td>36</td>\n",
       "      <td>4</td>\n",
       "      <td>414</td>\n",
       "      <td>226</td>\n",
       "      <td>510</td>\n",
       "      <td>13</td>\n",
       "      <td>83</td>\n",
       "      <td>79</td>\n",
       "      <td>126</td>\n",
       "      <td>23</td>\n",
       "    </tr>\n",
       "    <tr>\n",
       "      <th>August</th>\n",
       "      <td>56</td>\n",
       "      <td>3</td>\n",
       "      <td>438</td>\n",
       "      <td>279</td>\n",
       "      <td>465</td>\n",
       "      <td>11</td>\n",
       "      <td>88</td>\n",
       "      <td>86</td>\n",
       "      <td>146</td>\n",
       "      <td>15</td>\n",
       "    </tr>\n",
       "    <tr>\n",
       "      <th>September</th>\n",
       "      <td>55</td>\n",
       "      <td>3</td>\n",
       "      <td>261</td>\n",
       "      <td>190</td>\n",
       "      <td>315</td>\n",
       "      <td>8</td>\n",
       "      <td>50</td>\n",
       "      <td>74</td>\n",
       "      <td>65</td>\n",
       "      <td>7</td>\n",
       "    </tr>\n",
       "    <tr>\n",
       "      <th>October</th>\n",
       "      <td>61</td>\n",
       "      <td>1</td>\n",
       "      <td>290</td>\n",
       "      <td>200</td>\n",
       "      <td>313</td>\n",
       "      <td>5</td>\n",
       "      <td>48</td>\n",
       "      <td>73</td>\n",
       "      <td>81</td>\n",
       "      <td>17</td>\n",
       "    </tr>\n",
       "    <tr>\n",
       "      <th>November</th>\n",
       "      <td>41</td>\n",
       "      <td>0</td>\n",
       "      <td>283</td>\n",
       "      <td>133</td>\n",
       "      <td>227</td>\n",
       "      <td>10</td>\n",
       "      <td>36</td>\n",
       "      <td>46</td>\n",
       "      <td>60</td>\n",
       "      <td>12</td>\n",
       "    </tr>\n",
       "    <tr>\n",
       "      <th>December</th>\n",
       "      <td>27</td>\n",
       "      <td>1</td>\n",
       "      <td>359</td>\n",
       "      <td>184</td>\n",
       "      <td>267</td>\n",
       "      <td>9</td>\n",
       "      <td>52</td>\n",
       "      <td>60</td>\n",
       "      <td>45</td>\n",
       "      <td>13</td>\n",
       "    </tr>\n",
       "  </tbody>\n",
       "</table>\n",
       "</div>"
      ],
      "text/plain": [
       "job_title_short   Business Analyst  Cloud Engineer  Data Analyst  \\\n",
       "job_posted_month                                                   \n",
       "January                         23               0           456   \n",
       "February                        23               3           341   \n",
       "March                           27               1           370   \n",
       "April                           35               1           357   \n",
       "May                             20               1           338   \n",
       "June                            27               2           443   \n",
       "July                            36               4           414   \n",
       "August                          56               3           438   \n",
       "September                       55               3           261   \n",
       "October                         61               1           290   \n",
       "November                        41               0           283   \n",
       "December                        27               1           359   \n",
       "\n",
       "job_title_short   Data Engineer  Data Scientist  Machine Learning Engineer  \\\n",
       "job_posted_month                                                             \n",
       "January                     236             486                         14   \n",
       "February                    308             382                         13   \n",
       "March                       348             428                         10   \n",
       "April                       238             338                         14   \n",
       "May                         257             381                         10   \n",
       "June                        316             441                         11   \n",
       "July                        226             510                         13   \n",
       "August                      279             465                         11   \n",
       "September                   190             315                          8   \n",
       "October                     200             313                          5   \n",
       "November                    133             227                         10   \n",
       "December                    184             267                          9   \n",
       "\n",
       "job_title_short   Senior Data Analyst  Senior Data Engineer  \\\n",
       "job_posted_month                                              \n",
       "January                           119                    85   \n",
       "February                           77                   112   \n",
       "March                              72                   126   \n",
       "April                              89                    87   \n",
       "May                                81                   105   \n",
       "June                              118                   125   \n",
       "July                               83                    79   \n",
       "August                             88                    86   \n",
       "September                          50                    74   \n",
       "October                            48                    73   \n",
       "November                           36                    46   \n",
       "December                           52                    60   \n",
       "\n",
       "job_title_short   Senior Data Scientist  Software Engineer  \n",
       "job_posted_month                                            \n",
       "January                             150                  7  \n",
       "February                            110                 12  \n",
       "March                               132                 16  \n",
       "April                                90                 14  \n",
       "May                                 100                  6  \n",
       "June                                136                 15  \n",
       "July                                126                 23  \n",
       "August                              146                 15  \n",
       "September                            65                  7  \n",
       "October                              81                 17  \n",
       "November                             60                 12  \n",
       "December                             45                 13  "
      ]
     },
     "execution_count": 47,
     "metadata": {},
     "output_type": "execute_result"
    }
   ],
   "source": [
    "# df_us_pvt_top = \n",
    "df_us_pvt"
   ]
  },
  {
   "cell_type": "code",
   "execution_count": 51,
   "metadata": {},
   "outputs": [
    {
     "data": {
      "image/png": "[encoded data removed]",
      "text/plain": [
       "<Figure size 640x480 with 1 Axes>"
      ]
     },
     "metadata": {},
     "output_type": "display_data"
    }
   ],
   "source": [
    "df_us_pvt[titles].plot()\n",
    "plt.title(\"Monthly Job Postings for Top Data Jobs in US\")\n",
    "plt.xlabel(\"2023\")\n",
    "plt.ylabel(\"Job Count\")\n",
    "plt.legend()\n",
    "plt.show()"
   ]
  },
  {
   "cell_type": "code",
   "execution_count": null,
   "metadata": {},
   "outputs": [],
   "source": []
  }
 ],
 "metadata": {
  "kernelspec": {
   "display_name": "env_Bilingual",
   "language": "python",
   "name": "python3"
  },
  "language_info": {
   "codemirror_mode": {
    "name": "ipython",
    "version": 3
   },
   "file_extension": ".py",
   "mimetype": "text/x-python",
   "name": "python",
   "nbconvert_exporter": "python",
   "pygments_lexer": "ipython3",
   "version": "3.11.10"
  }
 },
 "nbformat": 4,
 "nbformat_minor": 2
}
