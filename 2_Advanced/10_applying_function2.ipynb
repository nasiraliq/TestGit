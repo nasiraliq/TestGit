{
 "cells": [
  {
   "cell_type": "code",
   "execution_count": 2,
   "metadata": {},
   "outputs": [],
   "source": [
    "import pandas as pd"
   ]
  },
  {
   "cell_type": "code",
   "execution_count": 3,
   "metadata": {},
   "outputs": [],
   "source": [
    "df = pd.read_csv(\"../data/data_jobs.csv\")"
   ]
  },
  {
   "cell_type": "markdown",
   "metadata": {},
   "source": [
    "# Calculate Projected Salary next year\n",
    "- Senior roles assume 5%\n",
    "- Other roless assume 3%"
   ]
  },
  {
   "cell_type": "code",
   "execution_count": 6,
   "metadata": {},
   "outputs": [],
   "source": [
    "df_new = df[df[\"salary_year_avg\"].notna()].copy()"
   ]
  },
  {
   "cell_type": "code",
   "execution_count": 8,
   "metadata": {},
   "outputs": [
    {
     "name": "stdout",
     "output_type": "stream",
     "text": [
      "Index(['job_title_short', 'job_title', 'job_location', 'job_via',\n",
      "       'job_schedule_type', 'job_work_from_home', 'search_location',\n",
      "       'job_posted_date', 'job_no_degree_mention', 'job_health_insurance',\n",
      "       'job_country', 'salary_rate', 'salary_year_avg', 'salary_hour_avg',\n",
      "       'company_name', 'job_skills', 'job_type_skills'],\n",
      "      dtype='object')\n"
     ]
    }
   ],
   "source": [
    "print(df_new.columns)"
   ]
  },
  {
   "cell_type": "code",
   "execution_count": 10,
   "metadata": {},
   "outputs": [
    {
     "data": {
      "text/plain": [
       "array(['Data Scientist', 'Data Engineer', 'Data Analyst',\n",
       "       'Senior Data Engineer', 'Business Analyst', 'Software Engineer',\n",
       "       'Senior Data Analyst', 'Machine Learning Engineer',\n",
       "       'Senior Data Scientist', 'Cloud Engineer'], dtype=object)"
      ]
     },
     "execution_count": 10,
     "metadata": {},
     "output_type": "execute_result"
    }
   ],
   "source": [
    "df_new[\"job_title_short\"].unique()"
   ]
  },
  {
   "cell_type": "code",
   "execution_count": 21,
   "metadata": {},
   "outputs": [],
   "source": [
    "def inflated_salary(record):\n",
    "    if pd.notna(record[\"salary_year_avg\"]):\n",
    "        if \"Senior\" in record[\"job_title_short\"]:\n",
    "            record[\"salary_year_avg\"] = record[\"salary_year_avg\"] * 1.05\n",
    "            return record\n",
    "        else:\n",
    "            record[\"salary_year_avg\"] = record[\"salary_year_avg\"] * 1.03\n",
    "            return record[\"salary_year_avg\"]\n",
    "    else:\n",
    "        return record\n",
    "\n",
    "df_new[\"salary_inflated\"] = df_new.apply(func=inflated_salary, axis=1)"
   ]
  },
  {
   "cell_type": "code",
   "execution_count": 22,
   "metadata": {},
   "outputs": [],
   "source": [
    "# def inflated_salary(record):\n",
    "#     if \"Senior\" in record[\"job_title_short\"]:\n",
    "#         record[\"salary_year_avg\"] = record[\"salary_year_avg\"] * 1.05\n",
    "#         return record\n",
    "#     else:\n",
    "#         record[\"salary_year_avg\"] = record[\"salary_year_avg\"] * 1.03\n",
    "#         return record[\"salary_year_avg\"]\n",
    "# df_new.apply(func=inflated_salary, axis=1)"
   ]
  },
  {
   "cell_type": "code",
   "execution_count": 24,
   "metadata": {},
   "outputs": [
    {
     "data": {
      "text/html": [
       "<div>\n",
       "<style scoped>\n",
       "    .dataframe tbody tr th:only-of-type {\n",
       "        vertical-align: middle;\n",
       "    }\n",
       "\n",
       "    .dataframe tbody tr th {\n",
       "        vertical-align: top;\n",
       "    }\n",
       "\n",
       "    .dataframe thead th {\n",
       "        text-align: right;\n",
       "    }\n",
       "</style>\n",
       "<table border=\"1\" class=\"dataframe\">\n",
       "  <thead>\n",
       "    <tr style=\"text-align: right;\">\n",
       "      <th></th>\n",
       "      <th>salary_year_avg</th>\n",
       "      <th>salary_inflated</th>\n",
       "    </tr>\n",
       "  </thead>\n",
       "  <tbody>\n",
       "    <tr>\n",
       "      <th>28</th>\n",
       "      <td>109500.0</td>\n",
       "      <td>112785.0</td>\n",
       "    </tr>\n",
       "    <tr>\n",
       "      <th>77</th>\n",
       "      <td>140000.0</td>\n",
       "      <td>144200.0</td>\n",
       "    </tr>\n",
       "    <tr>\n",
       "      <th>92</th>\n",
       "      <td>120000.0</td>\n",
       "      <td>123600.0</td>\n",
       "    </tr>\n",
       "    <tr>\n",
       "      <th>100</th>\n",
       "      <td>228222.0</td>\n",
       "      <td>235068.66</td>\n",
       "    </tr>\n",
       "    <tr>\n",
       "      <th>109</th>\n",
       "      <td>89000.0</td>\n",
       "      <td>91670.0</td>\n",
       "    </tr>\n",
       "  </tbody>\n",
       "</table>\n",
       "</div>"
      ],
      "text/plain": [
       "     salary_year_avg salary_inflated\n",
       "28          109500.0        112785.0\n",
       "77          140000.0        144200.0\n",
       "92          120000.0        123600.0\n",
       "100         228222.0       235068.66\n",
       "109          89000.0         91670.0"
      ]
     },
     "execution_count": 24,
     "metadata": {},
     "output_type": "execute_result"
    }
   ],
   "source": [
    "df_new[[\"salary_year_avg\", \"salary_inflated\"]].head()"
   ]
  },
  {
   "cell_type": "code",
   "execution_count": null,
   "metadata": {},
   "outputs": [],
   "source": []
  }
 ],
 "metadata": {
  "kernelspec": {
   "display_name": "env_Bilingual",
   "language": "python",
   "name": "python3"
  },
  "language_info": {
   "codemirror_mode": {
    "name": "ipython",
    "version": 3
   },
   "file_extension": ".py",
   "mimetype": "text/x-python",
   "name": "python",
   "nbconvert_exporter": "python",
   "pygments_lexer": "ipython3",
   "version": "3.11.10"
  }
 },
 "nbformat": 4,
 "nbformat_minor": 2
}
